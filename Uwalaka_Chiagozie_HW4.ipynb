{
 "cells": [
  {
   "cell_type": "markdown",
   "id": "f612a712",
   "metadata": {},
   "source": [
    "# HW4 Artificial Neural Networks"
   ]
  },
  {
   "cell_type": "markdown",
   "id": "8476e7c4",
   "metadata": {},
   "source": [
    "– Part 1: Describe Batch Normalization"
   ]
  },
  {
   "cell_type": "markdown",
   "id": "19ac7ca4",
   "metadata": {},
   "source": [
    " Batch normalization is a method use to rectify covariate shift within a neural netwrok layer. Through the use of rescaling and recentering, batch normalization noramalize the inputs of our layers. Covariate shift occurs when a change in distribution in a layer affects the learning speed of  our network. "
   ]
  },
  {
   "cell_type": "markdown",
   "id": "0d665e54",
   "metadata": {},
   "source": [
    "-- Part 2: Load MNIST Fashion Data Set from keras\n",
    "https://keras.io/api/datasets/fashion mnist/\n",
    "Create several neural network models investigating the effect of hyperparameters and\n",
    "techniques we studied on the model performance (number of layers, number of neurons in\n",
    "hidden layers, optimizers, batch size and learning rate in the gradient descent optimizers,\n",
    "L1 and L2 regularization, dropout, batch normalization, weight and bias initialization,\n",
    "etc.) using the information provided at\n",
    "https://keras.io/api/"
   ]
  },
  {
   "cell_type": "code",
   "execution_count": 26,
   "id": "b2b61cf8",
   "metadata": {},
   "outputs": [],
   "source": [
    "# pip install tensorflow\n",
    "import tensorflow as tf\n",
    "import matplotlib.pyplot as plt\n",
    "import numpy as np\n",
    "\n",
    "from tensorflow.keras import models, datasets, layers, optimizers\n",
    "\n"
   ]
  },
  {
   "cell_type": "code",
   "execution_count": 28,
   "id": "4f083494",
   "metadata": {
    "scrolled": true
   },
   "outputs": [
    {
     "name": "stdout",
     "output_type": "stream",
     "text": [
      "(60000, 28, 28)\n",
      "(10000, 28, 28)\n",
      "9\n"
     ]
    },
    {
     "data": {
      "image/png": "[encoded data removed]",
      "text/plain": [
       "<Figure size 432x288 with 1 Axes>"
      ]
     },
     "metadata": {
      "needs_background": "light"
     },
     "output_type": "display_data"
    }
   ],
   "source": [
    "(X_train_full, y_train_full), (X_test, y_test) = tf.keras.datasets.fashion_mnist.load_data()\n",
    "print(X_train_full.shape)\n",
    "print(X_test.shape)\n",
    "\n",
    "X_train, X_valid = X_train_full[:50000], X_train_full[50000:]\n",
    "y_train, y_valid = y_train_full[:50000], y_train_full[50000:]\n",
    "\n",
    "X_train = X_train/255\n",
    "X_valid = X_valid/255\n",
    "X_test = X_test/255\n",
    "\n",
    "plt.imshow(X_train[0], cmap=\"gray\")\n",
    "print(y_train[0]);"
   ]
  },
  {
   "cell_type": "code",
   "execution_count": 29,
   "id": "776f599c",
   "metadata": {},
   "outputs": [
    {
     "name": "stdout",
     "output_type": "stream",
     "text": [
      "Model: \"sequential_9\"\n",
      "_________________________________________________________________\n",
      " Layer (type)                Output Shape              Param #   \n",
      "=================================================================\n",
      " flatten_9 (Flatten)         (None, 784)               0         \n",
      "                                                                 \n",
      " dense_17 (Dense)            (None, 10)                7850      \n",
      "                                                                 \n",
      "=================================================================\n",
      "Total params: 7,850\n",
      "Trainable params: 7,850\n",
      "Non-trainable params: 0\n",
      "_________________________________________________________________\n"
     ]
    }
   ],
   "source": [
    "ann1 = models.Sequential([\n",
    "                        layers.Flatten(input_shape=(28, 28)),\n",
    "                        layers.Dense(10, activation='softmax')\n",
    "])\n",
    "\n",
    "ann1.compile(optimizer='adam',\n",
    "             loss='sparse_categorical_crossentropy',\n",
    "             metrics=['accuracy'])\n",
    "\n",
    "ann1.summary()"
   ]
  },
  {
   "cell_type": "code",
   "execution_count": 30,
   "id": "46633800",
   "metadata": {},
   "outputs": [
    {
     "name": "stdout",
     "output_type": "stream",
     "text": [
      "Epoch 1/5\n",
      "1563/1563 [==============================] - 5s 3ms/step - loss: 0.6233 - accuracy: 0.7909\n",
      "Epoch 2/5\n",
      "1563/1563 [==============================] - 4s 3ms/step - loss: 0.4705 - accuracy: 0.8400\n",
      "Epoch 3/5\n",
      "1563/1563 [==============================] - 4s 3ms/step - loss: 0.4411 - accuracy: 0.8489\n",
      "Epoch 4/5\n",
      "1563/1563 [==============================] - 4s 3ms/step - loss: 0.4249 - accuracy: 0.8552\n",
      "Epoch 5/5\n",
      "1563/1563 [==============================] - 4s 2ms/step - loss: 0.4161 - accuracy: 0.8563\n",
      "Epoch 1/10\n",
      "1563/1563 [==============================] - 5s 3ms/step - loss: 0.4100 - accuracy: 0.8584 - val_loss: 0.4217 - val_accuracy: 0.8536\n",
      "Epoch 2/10\n",
      "1563/1563 [==============================] - 4s 3ms/step - loss: 0.4037 - accuracy: 0.8611 - val_loss: 0.4318 - val_accuracy: 0.8495\n",
      "Epoch 3/10\n",
      "1563/1563 [==============================] - 5s 3ms/step - loss: 0.3987 - accuracy: 0.8610 - val_loss: 0.4339 - val_accuracy: 0.8487\n",
      "Epoch 4/10\n",
      "1563/1563 [==============================] - 4s 3ms/step - loss: 0.3955 - accuracy: 0.8630 - val_loss: 0.4155 - val_accuracy: 0.8582\n",
      "Epoch 5/10\n",
      "1563/1563 [==============================] - 4s 2ms/step - loss: 0.3916 - accuracy: 0.8643 - val_loss: 0.4179 - val_accuracy: 0.8574\n",
      "Epoch 6/10\n",
      "1563/1563 [==============================] - 4s 3ms/step - loss: 0.3900 - accuracy: 0.8633 - val_loss: 0.4182 - val_accuracy: 0.8554\n",
      "Epoch 7/10\n",
      "1563/1563 [==============================] - 4s 3ms/step - loss: 0.3882 - accuracy: 0.8647 - val_loss: 0.4263 - val_accuracy: 0.8531\n",
      "Epoch 8/10\n",
      "1563/1563 [==============================] - 4s 3ms/step - loss: 0.3858 - accuracy: 0.8656 - val_loss: 0.4245 - val_accuracy: 0.8550\n",
      "Epoch 9/10\n",
      "1563/1563 [==============================] - 5s 3ms/step - loss: 0.3833 - accuracy: 0.8652 - val_loss: 0.4215 - val_accuracy: 0.8552\n",
      "Epoch 10/10\n",
      "1563/1563 [==============================] - 5s 3ms/step - loss: 0.3808 - accuracy: 0.8671 - val_loss: 0.4143 - val_accuracy: 0.8561\n"
     ]
    }
   ],
   "source": [
    "ann1.fit(X_train, y_train, epochs=5)\n",
    "info = ann1.fit(X_train, y_train, epochs=10, validation_data=(X_valid, y_valid))"
   ]
  },
  {
   "cell_type": "code",
   "execution_count": 39,
   "id": "0dfc0ae4",
   "metadata": {},
   "outputs": [
    {
     "data": {
      "image/png": "[encoded data removed]",
      "text/plain": [
       "<Figure size 720x720 with 2 Axes>"
      ]
     },
     "metadata": {
      "needs_background": "light"
     },
     "output_type": "display_data"
    }
   ],
   "source": [
    "acc = info.history['accuracy']\n",
    "val_acc = info.history['val_accuracy']\n",
    "\n",
    "loss = info.history['loss']\n",
    "val_loss = info.history['val_loss']\n",
    "\n",
    "plt.figure(figsize=(10, 10))\n",
    "\n",
    "plt.subplot(2, 1, 1)\n",
    "plt.plot(acc, label='training data')\n",
    "plt.plot(val_acc, label='validation data')\n",
    "plt.ylim([0.75,1])\n",
    "plt.xlabel('epoch')\n",
    "plt.ylabel('accuracy')\n",
    "plt.legend()\n",
    "\n",
    "plt.subplot(2, 1, 2)\n",
    "plt.plot(loss, label='training data')\n",
    "plt.plot(val_loss, label='validation data')\n",
    "plt.ylim([0.1,2])\n",
    "plt.xlabel('epoch')\n",
    "plt.ylabel('loss')\n",
    "plt.legend();"
   ]
  },
  {
   "cell_type": "code",
   "execution_count": 5,
   "id": "9e427f2a",
   "metadata": {
    "scrolled": true
   },
   "outputs": [
    {
     "name": "stdout",
     "output_type": "stream",
     "text": [
      "313/313 [==============================] - 1s 2ms/step - loss: 0.4424 - accuracy: 0.8474\n"
     ]
    },
    {
     "data": {
      "text/plain": [
       "array([1.0998728e-07, 2.1357591e-09, 5.6064046e-06, 3.7158627e-06,\n",
       "       2.6802054e-06, 4.5016970e-02, 2.0137000e-05, 3.9966982e-02,\n",
       "       3.2818075e-03, 9.1170198e-01], dtype=float32)"
      ]
     },
     "execution_count": 5,
     "metadata": {},
     "output_type": "execute_result"
    }
   ],
   "source": [
    "ann1.evaluate(X_test, y_test)\n",
    "y_pred = ann1.predict(X_test)\n",
    "y_pred[0]"
   ]
  },
  {
   "cell_type": "code",
   "execution_count": 40,
   "id": "f27a9517",
   "metadata": {
    "code_folding": [],
    "scrolled": true
   },
   "outputs": [
    {
     "name": "stdout",
     "output_type": "stream",
     "text": [
      "Epoch 1/5\n",
      "1563/1563 [==============================] - 6s 3ms/step - loss: 4.8523 - accuracy: 0.1504\n",
      "Epoch 2/5\n",
      "1563/1563 [==============================] - 5s 3ms/step - loss: 3.3974 - accuracy: 0.1540\n",
      "Epoch 3/5\n",
      "1563/1563 [==============================] - 5s 3ms/step - loss: 3.2899 - accuracy: 0.1863\n",
      "Epoch 4/5\n",
      "1563/1563 [==============================] - 5s 3ms/step - loss: 3.5827 - accuracy: 0.1663\n",
      "Epoch 5/5\n",
      "1563/1563 [==============================] - 5s 3ms/step - loss: 3.8167 - accuracy: 0.0999\n"
     ]
    },
    {
     "data": {
      "text/plain": [
       "<keras.callbacks.History at 0x29600c05490>"
      ]
     },
     "execution_count": 40,
     "metadata": {},
     "output_type": "execute_result"
    }
   ],
   "source": [
    "ann2 = models.Sequential([\n",
    "    layers.Flatten(input_shape=(28, 28)),\n",
    "    layers.Dense(130, activation='selu'),\n",
    "    layers.Dense(10, activation='elu')\n",
    "])\n",
    "\n",
    "ann2.compile(optimizer='sgd', \n",
    "             loss='sparse_categorical_crossentropy',\n",
    "             metrics=['accuracy'])\n",
    "\n",
    "ann2.fit(X_train, y_train, epochs=5)"
   ]
  },
  {
   "cell_type": "code",
   "execution_count": 7,
   "id": "d579e781",
   "metadata": {},
   "outputs": [
    {
     "name": "stdout",
     "output_type": "stream",
     "text": [
      "Epoch 1/5\n",
      "1563/1563 [==============================] - 5s 3ms/step - loss: 2.2873 - accuracy: 0.0995\n",
      "Epoch 2/5\n",
      "1563/1563 [==============================] - 5s 3ms/step - loss: 2.2175 - accuracy: 0.0995\n",
      "Epoch 3/5\n",
      "1563/1563 [==============================] - 5s 3ms/step - loss: 2.1969 - accuracy: 0.0995\n",
      "Epoch 4/5\n",
      "1563/1563 [==============================] - 5s 3ms/step - loss: 2.2335 - accuracy: 0.0995\n",
      "Epoch 5/5\n",
      "1563/1563 [==============================] - 5s 3ms/step - loss: 2.1931 - accuracy: 0.0995\n",
      "Epoch 1/5\n",
      "1563/1563 [==============================] - 6s 4ms/step - loss: 2.1530 - accuracy: 0.0995 - val_loss: 2.1766 - val_accuracy: 0.1023\n",
      "Epoch 2/5\n",
      "1563/1563 [==============================] - 6s 4ms/step - loss: 2.1622 - accuracy: 0.0995 - val_loss: 2.1632 - val_accuracy: 0.1023\n",
      "Epoch 3/5\n",
      "1563/1563 [==============================] - 6s 4ms/step - loss: 2.1610 - accuracy: 0.0995 - val_loss: 2.1248 - val_accuracy: 0.1023\n",
      "Epoch 4/5\n",
      "1563/1563 [==============================] - 6s 4ms/step - loss: 2.1881 - accuracy: 0.0995 - val_loss: 2.2147 - val_accuracy: 0.1023\n",
      "Epoch 5/5\n",
      "1563/1563 [==============================] - 6s 4ms/step - loss: 2.2140 - accuracy: 0.0995 - val_loss: 2.2338 - val_accuracy: 0.1023\n",
      "313/313 [==============================] - 1s 3ms/step - loss: 2.2619 - accuracy: 0.1000\n"
     ]
    },
    {
     "data": {
      "text/plain": [
       "array([39.843914 , -1.       , 14.728111 ,  6.248768 , -0.9999515,\n",
       "        9.944932 ,  9.471553 , 14.02437  ,  3.354875 , 12.885222 ],\n",
       "      dtype=float32)"
      ]
     },
     "execution_count": 7,
     "metadata": {},
     "output_type": "execute_result"
    }
   ],
   "source": [
    "ann2.fit(X_train, y_train, epochs=5)\n",
    "info = ann2.fit(X_train, y_train, epochs=5, validation_data=(X_valid, y_valid))\n",
    "ann2.evaluate(X_test, y_test)\n",
    "y_pred = ann2.predict(X_test)\n",
    "y_pred[0]"
   ]
  },
  {
   "cell_type": "code",
   "execution_count": 41,
   "id": "a11fc019",
   "metadata": {
    "scrolled": true
   },
   "outputs": [
    {
     "name": "stdout",
     "output_type": "stream",
     "text": [
      "Model: \"sequential_10\"\n",
      "_________________________________________________________________\n",
      " Layer (type)                Output Shape              Param #   \n",
      "=================================================================\n",
      " flatten_10 (Flatten)        (None, 784)               0         \n",
      "                                                                 \n",
      " dense_18 (Dense)            (None, 130)               102050    \n",
      "                                                                 \n",
      " dense_19 (Dense)            (None, 10)                1310      \n",
      "                                                                 \n",
      "=================================================================\n",
      "Total params: 103,360\n",
      "Trainable params: 103,360\n",
      "Non-trainable params: 0\n",
      "_________________________________________________________________\n",
      "Epoch 1/10\n",
      "1563/1563 [==============================] - 6s 4ms/step - loss: 3.8187 - accuracy: 0.0999 - val_loss: 3.7607 - val_accuracy: 0.1009\n",
      "Epoch 2/10\n",
      "1563/1563 [==============================] - 6s 4ms/step - loss: 3.8187 - accuracy: 0.0999 - val_loss: 3.7607 - val_accuracy: 0.1009\n",
      "Epoch 3/10\n",
      "1563/1563 [==============================] - 6s 4ms/step - loss: 3.8187 - accuracy: 0.0999 - val_loss: 3.7607 - val_accuracy: 0.1009\n",
      "Epoch 4/10\n",
      "1563/1563 [==============================] - 6s 4ms/step - loss: 3.8187 - accuracy: 0.0999 - val_loss: 3.7607 - val_accuracy: 0.1009\n",
      "Epoch 5/10\n",
      "1563/1563 [==============================] - 6s 4ms/step - loss: 3.8187 - accuracy: 0.0999 - val_loss: 3.7607 - val_accuracy: 0.1009\n",
      "Epoch 6/10\n",
      "1563/1563 [==============================] - 6s 4ms/step - loss: 3.8187 - accuracy: 0.0999 - val_loss: 3.7607 - val_accuracy: 0.1009\n",
      "Epoch 7/10\n",
      "1563/1563 [==============================] - 6s 4ms/step - loss: 3.8187 - accuracy: 0.0999 - val_loss: 3.7607 - val_accuracy: 0.1009\n",
      "Epoch 8/10\n",
      "1563/1563 [==============================] - 6s 4ms/step - loss: 3.8187 - accuracy: 0.0999 - val_loss: 3.7607 - val_accuracy: 0.1009\n",
      "Epoch 9/10\n",
      "1563/1563 [==============================] - 6s 4ms/step - loss: 3.8187 - accuracy: 0.0999 - val_loss: 3.7607 - val_accuracy: 0.1009\n",
      "Epoch 10/10\n",
      "1563/1563 [==============================] - 6s 4ms/step - loss: 3.8187 - accuracy: 0.0999 - val_loss: 3.7607 - val_accuracy: 0.1009\n"
     ]
    }
   ],
   "source": [
    "ann2.summary()\n",
    "info = ann2.fit(X_train, y_train, epochs=10, validation_data=(X_valid, y_valid))"
   ]
  },
  {
   "cell_type": "code",
   "execution_count": 9,
   "id": "bedf8771",
   "metadata": {},
   "outputs": [
    {
     "name": "stdout",
     "output_type": "stream",
     "text": [
      "Epoch 1/5\n",
      "1563/1563 [==============================] - 9s 5ms/step - loss: 10.9376 - accuracy: 0.0995\n",
      "Epoch 2/5\n",
      "1563/1563 [==============================] - 7s 5ms/step - loss: 10.5131 - accuracy: 0.1034\n",
      "Epoch 3/5\n",
      "1563/1563 [==============================] - 7s 4ms/step - loss: 10.4767 - accuracy: 0.1022\n",
      "Epoch 4/5\n",
      "1563/1563 [==============================] - 7s 5ms/step - loss: 10.4761 - accuracy: 0.0986\n",
      "Epoch 5/5\n",
      "1563/1563 [==============================] - 6s 4ms/step - loss: 10.4761 - accuracy: 0.0981\n"
     ]
    },
    {
     "data": {
      "text/plain": [
       "<keras.callbacks.History at 0x29673189580>"
      ]
     },
     "execution_count": 9,
     "metadata": {},
     "output_type": "execute_result"
    }
   ],
   "source": [
    "from keras.layers import Dropout, BatchNormalization\n",
    "\n",
    "ann3 = models.Sequential([\n",
    "    layers.Flatten(input_shape=(28, 28)),\n",
    "    \n",
    "    layers.Dense(128, activation='elu'),\n",
    "    layers.BatchNormalization(),\n",
    "    layers.Dropout(0.2),\n",
    "    \n",
    "    layers.Dense(10, activation='softmax')\n",
    "])\n",
    "\n",
    "ann3.compile(optimizer='adamax',\n",
    "             loss='Poisson',\n",
    "             metrics=['accuracy'])\n",
    "\n",
    "ann3.fit(X_train, y_train, epochs=5)"
   ]
  },
  {
   "cell_type": "code",
   "execution_count": 10,
   "id": "1eba7d31",
   "metadata": {
    "scrolled": true
   },
   "outputs": [
    {
     "name": "stdout",
     "output_type": "stream",
     "text": [
      "Model: \"sequential_2\"\n",
      "_________________________________________________________________\n",
      " Layer (type)                Output Shape              Param #   \n",
      "=================================================================\n",
      " flatten_2 (Flatten)         (None, 784)               0         \n",
      "                                                                 \n",
      " dense_3 (Dense)             (None, 128)               100480    \n",
      "                                                                 \n",
      " batch_normalization (BatchN  (None, 128)              512       \n",
      " ormalization)                                                   \n",
      "                                                                 \n",
      " dropout (Dropout)           (None, 128)               0         \n",
      "                                                                 \n",
      " dense_4 (Dense)             (None, 10)                1290      \n",
      "                                                                 \n",
      "=================================================================\n",
      "Total params: 102,282\n",
      "Trainable params: 102,026\n",
      "Non-trainable params: 256\n",
      "_________________________________________________________________\n"
     ]
    }
   ],
   "source": [
    "ann3.summary()"
   ]
  },
  {
   "cell_type": "code",
   "execution_count": 16,
   "id": "9bb17802",
   "metadata": {},
   "outputs": [
    {
     "name": "stdout",
     "output_type": "stream",
     "text": [
      "Epoch 1/5\n",
      "1563/1563 [==============================] - 8s 4ms/step - loss: 10.9685 - accuracy: 0.0943\n",
      "Epoch 2/5\n",
      "1563/1563 [==============================] - 7s 4ms/step - loss: 10.5218 - accuracy: 0.0943\n",
      "Epoch 3/5\n",
      "1563/1563 [==============================] - 6s 4ms/step - loss: 10.4774 - accuracy: 0.0973\n",
      "Epoch 4/5\n",
      "1563/1563 [==============================] - 7s 4ms/step - loss: 10.4761 - accuracy: 0.0962\n",
      "Epoch 5/5\n",
      "1563/1563 [==============================] - 6s 4ms/step - loss: 10.4761 - accuracy: 0.0963\n"
     ]
    },
    {
     "data": {
      "text/plain": [
       "<keras.callbacks.History at 0x2960bc62b50>"
      ]
     },
     "execution_count": 16,
     "metadata": {},
     "output_type": "execute_result"
    }
   ],
   "source": [
    "from keras.layers import Dropout, BatchNormalization\n",
    "\n",
    "ann4 = models.Sequential([\n",
    "    layers.Flatten(input_shape=(28, 28)),\n",
    "    \n",
    "    layers.Dense(128, activation='elu'),\n",
    "    layers.BatchNormalization(),\n",
    "    layers.GaussianDropout(0.2),\n",
    "    \n",
    "    layers.Dense(10, activation='softmax')\n",
    "])\n",
    "\n",
    "ann4.compile(optimizer='adamax',\n",
    "             loss='Poisson',\n",
    "             metrics=['accuracy'])\n",
    "\n",
    "ann4.fit(X_train, y_train, epochs=5)"
   ]
  },
  {
   "cell_type": "code",
   "execution_count": null,
   "id": "14f02862",
   "metadata": {},
   "outputs": [],
   "source": [
    "ann4.summary()\n",
    "#info = ann4.fit(X_train, y_train, epochs=10, validation_data=(X_valid, y_valid))"
   ]
  }
 ],
 "metadata": {
  "kernelspec": {
   "display_name": "Python 3",
   "language": "python",
   "name": "python3"
  },
  "language_info": {
   "codemirror_mode": {
    "name": "ipython",
    "version": 3
   },
   "file_extension": ".py",
   "mimetype": "text/x-python",
   "name": "python",
   "nbconvert_exporter": "python",
   "pygments_lexer": "ipython3",
   "version": "3.8.8"
  }
 },
 "nbformat": 4,
 "nbformat_minor": 5
}
